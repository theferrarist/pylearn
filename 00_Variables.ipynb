{
  "nbformat": 4,
  "nbformat_minor": 0,
  "metadata": {
    "colab": {
      "provenance": [],
      "authorship_tag": "ABX9TyPQsAXUIQ61eBtyNFZBbWVo",
      "include_colab_link": true
    },
    "kernelspec": {
      "name": "python3",
      "display_name": "Python 3"
    },
    "language_info": {
      "name": "python"
    }
  },
  "cells": [
    {
      "cell_type": "markdown",
      "metadata": {
        "id": "view-in-github",
        "colab_type": "text"
      },
      "source": [
        "<a href=\"https://colab.research.google.com/github/theferrarist/pylearn/blob/main/00_Variables.ipynb\" target=\"_parent\"><img src=\"https://colab.research.google.com/assets/colab-badge.svg\" alt=\"Open In Colab\"/></a>"
      ]
    },
    {
      "cell_type": "code",
      "execution_count": 9,
      "metadata": {
        "colab": {
          "base_uri": "https://localhost:8080/"
        },
        "id": "GWuvbD1EnTaB",
        "outputId": "36be0a0f-751d-4fcf-e951-4a756f7b004c"
      },
      "outputs": [
        {
          "output_type": "stream",
          "name": "stdout",
          "text": [
            "What is your full name? Avi\n",
            "Hello, Avi! Congratulations!\n"
          ]
        }
      ],
      "source": [
        "#Ask user of your full name\n",
        "\n",
        "name = str(input(\"What is your full name? \"))\n",
        "\n",
        "print( \"Hello, \" + name + \"! Congratulations!\")"
      ]
    },
    {
      "cell_type": "code",
      "source": [],
      "metadata": {
        "id": "JqV5kubKpxx_"
      },
      "execution_count": null,
      "outputs": []
    }
  ]
}