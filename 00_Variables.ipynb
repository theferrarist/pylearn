{
  "nbformat": 4,
  "nbformat_minor": 0,
  "metadata": {
    "colab": {
      "provenance": [],
      "authorship_tag": "ABX9TyNsvV1pzxqKudyRD5S/7LRN",
      "include_colab_link": true
    },
    "kernelspec": {
      "name": "python3",
      "display_name": "Python 3"
    },
    "language_info": {
      "name": "python"
    }
  },
  "cells": [
    {
      "cell_type": "markdown",
      "metadata": {
        "id": "view-in-github",
        "colab_type": "text"
      },
      "source": [
        "<a href=\"https://colab.research.google.com/github/theferrarist/pylearn/blob/main/00_Variables.ipynb\" target=\"_parent\"><img src=\"https://colab.research.google.com/assets/colab-badge.svg\" alt=\"Open In Colab\"/></a>"
      ]
    },
    {
      "cell_type": "code",
      "execution_count": 9,
      "metadata": {
        "colab": {
          "base_uri": "https://localhost:8080/"
        },
        "id": "GWuvbD1EnTaB",
        "outputId": "36be0a0f-751d-4fcf-e951-4a756f7b004c"
      },
      "outputs": [
        {
          "output_type": "stream",
          "name": "stdout",
          "text": [
            "What is your full name? Avi\n",
            "Hello, Avi! Congratulations!\n"
          ]
        }
      ],
      "source": [
        "#Ask user of your full name\n",
        "\n",
        "name = str(input(\"What is your full name? \"))\n",
        "\n",
        "print( \"Hello, \" + name + \"! Congratulations!\")"
      ]
    },
    {
      "cell_type": "code",
      "source": [
        "\"\"\"\n",
        "Default values in a print statement:\n",
        "\n",
        "print(*args, sep=' ', end='\\n', file=None, flush=False)\n",
        "Prints the values to a stream, or to sys.stdout by default.\n",
        "\n",
        "sep\n",
        "  string inserted between values, default a space.\n",
        "end\n",
        "  string appended after the last value, default a newline.\n",
        "file\n",
        "  a file-like object (stream); defaults to the current sys.stdout.\n",
        "flush\n",
        "  whether to forcibly flush the stream.\n",
        "\"\"\""
      ],
      "metadata": {
        "id": "JqV5kubKpxx_"
      },
      "execution_count": null,
      "outputs": []
    },
    {
      "cell_type": "code",
      "source": [
        "print(\"Hello, 'Buddy'\")\n",
        "print(\"hello, \\\"friend\\\"\")"
      ],
      "metadata": {
        "colab": {
          "base_uri": "https://localhost:8080/"
        },
        "id": "Lqu43vR2sKia",
        "outputId": "49fb42f8-369f-48b3-cb36-63af47e09f74"
      },
      "execution_count": 11,
      "outputs": [
        {
          "output_type": "stream",
          "name": "stdout",
          "text": [
            "Hello, 'Buddy'\n",
            "hello, \"friend\"\n"
          ]
        }
      ]
    },
    {
      "cell_type": "code",
      "source": [
        "name = str(input(\"What is your full name? \"))\n",
        "print(f\"hello, {name}\")"
      ],
      "metadata": {
        "colab": {
          "base_uri": "https://localhost:8080/"
        },
        "id": "tVxA4SW8skwv",
        "outputId": "29ebd490-2700-4362-9fde-2ea9b7e50a95"
      },
      "execution_count": 14,
      "outputs": [
        {
          "output_type": "stream",
          "name": "stdout",
          "text": [
            "What is your full name? Avi\n",
            "hello, Avi\n"
          ]
        }
      ]
    },
    {
      "cell_type": "code",
      "source": [
        "name = str(input(\"What is your full name? \"))\n",
        "\n",
        "name = name.strip() # remove whitespace from strings. You can use lstrip() and rstrip() specifically to strip the space on the left or right of the string.\n",
        "\n",
        "name = name.capitalize() # to capitalize the first letter of the string\n",
        "\n",
        "print(f\"hello, {name}\")"
      ],
      "metadata": {
        "colab": {
          "base_uri": "https://localhost:8080/"
        },
        "id": "ZRrB2qibs-E6",
        "outputId": "2ecc051b-7850-4e09-c267-a493d25475d9"
      },
      "execution_count": 27,
      "outputs": [
        {
          "output_type": "stream",
          "name": "stdout",
          "text": [
            "What is your full name? avi\n",
            "hello, Avi\n"
          ]
        }
      ]
    },
    {
      "cell_type": "code",
      "source": [
        "name = str(input(\"What is your full name? \"))\n",
        "\n",
        "name = name.strip() # remove whitespace from strings\n",
        "\n",
        "name = name.title() #to capitalize the first letter of every word in the string\n",
        "\n",
        "print(f\"hello, {name}\")"
      ],
      "metadata": {
        "colab": {
          "base_uri": "https://localhost:8080/"
        },
        "id": "HSq4Ot28t7NM",
        "outputId": "be8894b2-82e6-4b06-b6d0-08a15bfe7df3"
      },
      "execution_count": 20,
      "outputs": [
        {
          "output_type": "stream",
          "name": "stdout",
          "text": [
            "What is your full name?        avi basu mojumdar       \n",
            "hello, Avi Basu Mojumdar\n"
          ]
        }
      ]
    },
    {
      "cell_type": "code",
      "source": [
        "name = str(input(\"What is your full name? \")).strip().title()\n",
        "\n",
        "#name = name.strip().title() # remove whitespace from strings\n",
        "\n",
        "#name = name.title() #to capitalize the first letter of every word in the string\n",
        "\n",
        "print(f\"hello, {name}\")"
      ],
      "metadata": {
        "colab": {
          "base_uri": "https://localhost:8080/"
        },
        "id": "ZdxP-1hivBcV",
        "outputId": "cba0fd1a-1211-4946-b5a7-be6683776bdc"
      },
      "execution_count": 23,
      "outputs": [
        {
          "output_type": "stream",
          "name": "stdout",
          "text": [
            "What is your full name?      avi basu mojumdar     \n",
            "hello, Avi Basu Mojumdar\n"
          ]
        }
      ]
    },
    {
      "cell_type": "code",
      "source": [
        "name = str(input(\"What is your full name? \")).strip().title()\n",
        "\n",
        "# Split user's name into first and last name.\n",
        "first, last = name.split(\" \")\n",
        "\n",
        "print(f\"hello, {first}\")"
      ],
      "metadata": {
        "colab": {
          "base_uri": "https://localhost:8080/"
        },
        "id": "rLlBguh-wbAc",
        "outputId": "fd6c2024-8d2b-43f9-8e1e-381f0fc16b4c"
      },
      "execution_count": 28,
      "outputs": [
        {
          "output_type": "stream",
          "name": "stdout",
          "text": [
            "What is your full name? avi basu\n",
            "hello, Avi\n"
          ]
        }
      ]
    },
    {
      "cell_type": "code",
      "source": [],
      "metadata": {
        "id": "w0k1Il3vw0aR"
      },
      "execution_count": null,
      "outputs": []
    }
  ]
}