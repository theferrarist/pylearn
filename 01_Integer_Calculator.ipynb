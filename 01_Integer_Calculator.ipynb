{
  "nbformat": 4,
  "nbformat_minor": 0,
  "metadata": {
    "colab": {
      "provenance": [],
      "authorship_tag": "ABX9TyN8ff4WqBmkTNaofJnslNpu",
      "include_colab_link": true
    },
    "kernelspec": {
      "name": "python3",
      "display_name": "Python 3"
    },
    "language_info": {
      "name": "python"
    }
  },
  "cells": [
    {
      "cell_type": "markdown",
      "metadata": {
        "id": "view-in-github",
        "colab_type": "text"
      },
      "source": [
        "<a href=\"https://colab.research.google.com/github/theferrarist/pylearn/blob/main/01_Integer_Calculator.ipynb\" target=\"_parent\"><img src=\"https://colab.research.google.com/assets/colab-badge.svg\" alt=\"Open In Colab\"/></a>"
      ]
    },
    {
      "cell_type": "code",
      "execution_count": null,
      "metadata": {
        "colab": {
          "base_uri": "https://localhost:8080/"
        },
        "id": "bIhQ7L1oxtVA",
        "outputId": "239d4f24-c6e8-43f9-d9c5-c4fc5feb519d"
      },
      "outputs": [
        {
          "output_type": "stream",
          "name": "stdout",
          "text": [
            "What's x? 4\n",
            "What's x? 6\n",
            "10\n"
          ]
        }
      ],
      "source": [
        "x = int(input(\"What's x? \"))\n",
        "y = int(input(\"What's x? \"))\n",
        "\n",
        "z = x + y\n",
        "\n",
        "print(z)"
      ]
    },
    {
      "cell_type": "code",
      "source": [
        "x = input(\"What's x? \")\n",
        "y = input(\"What's x? \")\n",
        "\n",
        "z = int(x) + int(y)\n",
        "\n",
        "print(z)"
      ],
      "metadata": {
        "colab": {
          "base_uri": "https://localhost:8080/"
        },
        "id": "QGkQeq7DyiZM",
        "outputId": "50ad941e-38bf-4306-d189-55b459075f79"
      },
      "execution_count": null,
      "outputs": [
        {
          "output_type": "stream",
          "name": "stdout",
          "text": [
            "What's x? 4\n",
            "What's x? 6\n",
            "10\n"
          ]
        }
      ]
    },
    {
      "cell_type": "code",
      "source": [
        "x = int(input(\"What's x? \"))\n",
        "y = int(input(\"What's x? \"))\n",
        "\n",
        "print(x + y)"
      ],
      "metadata": {
        "colab": {
          "base_uri": "https://localhost:8080/"
        },
        "id": "EMoAVUoXyqKA",
        "outputId": "17db46fb-aa32-4578-a423-9da0eae60fc2"
      },
      "execution_count": null,
      "outputs": [
        {
          "output_type": "stream",
          "name": "stdout",
          "text": [
            "What's x? 4\n",
            "What's x? 9\n",
            "13\n"
          ]
        }
      ]
    },
    {
      "cell_type": "code",
      "source": [
        "x = float(input(\"What's x? \"))\n",
        "y = float(input(\"What's x? \"))\n",
        "\n",
        "print(x + y)"
      ],
      "metadata": {
        "id": "v79IOYiFzP7h",
        "colab": {
          "base_uri": "https://localhost:8080/"
        },
        "outputId": "7e542352-1701-43cf-ffde-aec1d5e3659e"
      },
      "execution_count": 1,
      "outputs": [
        {
          "output_type": "stream",
          "name": "stdout",
          "text": [
            "What's x? 1.35\n",
            "What's x? 2.25\n",
            "3.6\n"
          ]
        }
      ]
    },
    {
      "cell_type": "code",
      "source": [
        "x = float(input(\"What's x? \"))\n",
        "y = float(input(\"What's x? \"))\n",
        "\n",
        "#round(number[, ndigits])\n",
        "\n",
        "z = round(x+y)\n",
        "\n",
        "print(z)"
      ],
      "metadata": {
        "colab": {
          "base_uri": "https://localhost:8080/"
        },
        "id": "c0idLcfG3qDg",
        "outputId": "3237d1de-01b8-4c13-b340-e420c73acd32"
      },
      "execution_count": 5,
      "outputs": [
        {
          "output_type": "stream",
          "name": "stdout",
          "text": [
            "What's x? 1.65\n",
            "What's x? 1.32\n",
            "3\n"
          ]
        }
      ]
    },
    {
      "cell_type": "code",
      "source": [
        "x = float(input(\"What's x? \"))\n",
        "y = float(input(\"What's x? \"))\n",
        "\n",
        "#round(number[, ndigits])\n",
        "\n",
        "z = round(x+y)\n",
        "\n",
        "print(f\"{z:,}\") #f string is a format string.\n"
      ],
      "metadata": {
        "colab": {
          "base_uri": "https://localhost:8080/"
        },
        "id": "tAmc5G6a4aww",
        "outputId": "836e22e7-ba86-47bc-9d78-ddcb11609a26"
      },
      "execution_count": 9,
      "outputs": [
        {
          "output_type": "stream",
          "name": "stdout",
          "text": [
            "What's x? 2\n",
            "What's x? 1001\n",
            "1,003\n"
          ]
        }
      ]
    },
    {
      "cell_type": "code",
      "source": [
        "x = float(input(\"What's x? \"))\n",
        "y = float(input(\"What's x? \"))\n",
        "\n",
        "#round(number[, ndigits])\n",
        "\n",
        "z = x / y\n",
        "\n",
        "print(z)"
      ],
      "metadata": {
        "colab": {
          "base_uri": "https://localhost:8080/"
        },
        "id": "h-zWxB9y5FEv",
        "outputId": "9339c0f4-4b3a-4a54-a9ee-cccdd3ab631d"
      },
      "execution_count": 11,
      "outputs": [
        {
          "output_type": "stream",
          "name": "stdout",
          "text": [
            "What's x? 6\n",
            "What's x? 2\n",
            "3.0\n"
          ]
        }
      ]
    },
    {
      "cell_type": "code",
      "source": [
        "x = float(input(\"What's x? \"))\n",
        "y = float(input(\"What's x? \"))\n",
        "\n",
        "#round(number[, ndigits])\n",
        "\n",
        "z = round(x / y, 3) #rounding the decimal points\n",
        "\n",
        "print(z)"
      ],
      "metadata": {
        "colab": {
          "base_uri": "https://localhost:8080/"
        },
        "id": "zfZ9uAMz5dan",
        "outputId": "4ee08dfd-c46d-478f-8f3a-751e3a6a6fce"
      },
      "execution_count": 13,
      "outputs": [
        {
          "output_type": "stream",
          "name": "stdout",
          "text": [
            "What's x? 2\n",
            "What's x? 3\n",
            "0.667\n"
          ]
        }
      ]
    },
    {
      "cell_type": "code",
      "source": [
        "x = float(input(\"What's x? \"))\n",
        "y = float(input(\"What's x? \"))\n",
        "\n",
        "#round(number[, ndigits])\n",
        "\n",
        "z = x / y\n",
        "\n",
        "print(f\"{z:.4f}\") #rounding the decimal points"
      ],
      "metadata": {
        "colab": {
          "base_uri": "https://localhost:8080/"
        },
        "id": "RQGzVDZe5sSH",
        "outputId": "ece448bd-14e4-49fe-8a10-348bf38958ba"
      },
      "execution_count": 16,
      "outputs": [
        {
          "output_type": "stream",
          "name": "stdout",
          "text": [
            "What's x? 2\n",
            "What's x? 3\n",
            "0.6667\n"
          ]
        }
      ]
    },
    {
      "cell_type": "code",
      "source": [],
      "metadata": {
        "id": "C7csGNFu65H_"
      },
      "execution_count": null,
      "outputs": []
    }
  ]
}