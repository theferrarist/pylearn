{
  "nbformat": 4,
  "nbformat_minor": 0,
  "metadata": {
    "colab": {
      "provenance": [],
      "authorship_tag": "ABX9TyO1ojhe4EfUNgujELPCXN9b",
      "include_colab_link": true
    },
    "kernelspec": {
      "name": "python3",
      "display_name": "Python 3"
    },
    "language_info": {
      "name": "python"
    }
  },
  "cells": [
    {
      "cell_type": "markdown",
      "metadata": {
        "id": "view-in-github",
        "colab_type": "text"
      },
      "source": [
        "<a href=\"https://colab.research.google.com/github/theferrarist/pylearn/blob/main/01_Integer_Calculator.ipynb\" target=\"_parent\"><img src=\"https://colab.research.google.com/assets/colab-badge.svg\" alt=\"Open In Colab\"/></a>"
      ]
    },
    {
      "cell_type": "code",
      "execution_count": 9,
      "metadata": {
        "colab": {
          "base_uri": "https://localhost:8080/"
        },
        "id": "bIhQ7L1oxtVA",
        "outputId": "239d4f24-c6e8-43f9-d9c5-c4fc5feb519d"
      },
      "outputs": [
        {
          "output_type": "stream",
          "name": "stdout",
          "text": [
            "What's x? 4\n",
            "What's x? 6\n",
            "10\n"
          ]
        }
      ],
      "source": [
        "x = int(input(\"What's x? \"))\n",
        "y = int(input(\"What's x? \"))\n",
        "\n",
        "z = x + y\n",
        "\n",
        "print(z)"
      ]
    },
    {
      "cell_type": "code",
      "source": [
        "x = input(\"What's x? \")\n",
        "y = input(\"What's x? \")\n",
        "\n",
        "z = int(x) + int(y)\n",
        "\n",
        "print(z)"
      ],
      "metadata": {
        "colab": {
          "base_uri": "https://localhost:8080/"
        },
        "id": "QGkQeq7DyiZM",
        "outputId": "50ad941e-38bf-4306-d189-55b459075f79"
      },
      "execution_count": 10,
      "outputs": [
        {
          "output_type": "stream",
          "name": "stdout",
          "text": [
            "What's x? 4\n",
            "What's x? 6\n",
            "10\n"
          ]
        }
      ]
    },
    {
      "cell_type": "code",
      "source": [
        "x = int(input(\"What's x? \"))\n",
        "y = int(input(\"What's x? \"))\n",
        "\n",
        "print(x + y)"
      ],
      "metadata": {
        "colab": {
          "base_uri": "https://localhost:8080/"
        },
        "id": "EMoAVUoXyqKA",
        "outputId": "17db46fb-aa32-4578-a423-9da0eae60fc2"
      },
      "execution_count": 11,
      "outputs": [
        {
          "output_type": "stream",
          "name": "stdout",
          "text": [
            "What's x? 4\n",
            "What's x? 9\n",
            "13\n"
          ]
        }
      ]
    },
    {
      "cell_type": "code",
      "source": [],
      "metadata": {
        "id": "v79IOYiFzP7h"
      },
      "execution_count": null,
      "outputs": []
    }
  ]
}